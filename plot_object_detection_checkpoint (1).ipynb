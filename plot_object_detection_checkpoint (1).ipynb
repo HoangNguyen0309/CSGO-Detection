{
  "cells": [
    {
      "cell_type": "code",
      "execution_count": 2,
      "source": [
        "%matplotlib inline"
      ],
      "outputs": [],
      "metadata": {
        "collapsed": false
      }
    },
    {
      "cell_type": "markdown",
      "source": [
        "\n",
        "# Object Detection From TF2 Checkpoint\n"
      ],
      "metadata": {}
    },
    {
      "cell_type": "markdown",
      "source": [
        "This demo will take you through the steps of running an \"out-of-the-box\" TensorFlow 2 compatible\n",
        "detection model on a collection of images. More specifically, in this example we will be using\n",
        "the `Checkpoint Format <https://www.tensorflow.org/guide/checkpoint>`__ to load the model.\n",
        "\n"
      ],
      "metadata": {}
    },
    {
      "cell_type": "markdown",
      "source": [
        "## Download the test images\n",
        "First we will download the images that we will use throughout this tutorial. The code snippet\n",
        "shown bellow will download the test images from the `TensorFlow Model Garden <https://github.com/tensorflow/models/tree/master/research/object_detection/test_images>`_\n",
        "and save them inside the ``data/images`` folder.\n",
        "\n"
      ],
      "metadata": {}
    },
    {
      "cell_type": "code",
      "execution_count": 3,
      "source": [
        "import os\r\n",
        "os.environ['TF_CPP_MIN_LOG_LEVEL'] = '2'    # Suppress TensorFlow logging (1)\r\n",
        "import pathlib\r\n",
        "import tensorflow as tf\r\n",
        "\r\n",
        "tf.get_logger().setLevel('ERROR')           # Suppress TensorFlow logging (2)\r\n",
        "\r\n",
        "# Enable GPU dynamic memory allocation\r\n",
        "gpus = tf.config.experimental.list_physical_devices('GPU')\r\n",
        "for gpu in gpus:\r\n",
        "    tf.config.experimental.set_memory_growth(gpu, True)\r\n",
        "\r\n",
        "\r\n",
        "IMAGE_PATHS = \"C:/Users/Admin/.keras/datasets/ima138.png\", \"C:/Users/Admin/.keras/datasets/ima139.png\""
      ],
      "outputs": [],
      "metadata": {
        "collapsed": false
      }
    },
    {
      "cell_type": "markdown",
      "source": [
        "## Download the model\n",
        "The code snippet shown below is used to download the pre-trained object detection model we shall\n",
        "use to perform inference. The particular detection algorithm we will use is the\n",
        "`CenterNet HourGlass104 1024x1024`. More models can be found in the `TensorFlow 2 Detection Model Zoo <https://github.com/tensorflow/models/blob/master/research/object_detection/g3doc/tf2_detection_zoo.md>`_.\n",
        "To use a different model you will need the URL name of the specific model. This can be done as\n",
        "follows:\n",
        "\n",
        "1. Right click on the `Model name` of the model you would like to use;\n",
        "2. Click on `Copy link address` to copy the download link of the model;\n",
        "3. Paste the link in a text editor of your choice. You should observe a link similar to ``download.tensorflow.org/models/object_detection/tf2/YYYYYYYY/XXXXXXXXX.tar.gz``;\n",
        "4. Copy the ``XXXXXXXXX`` part of the link and use it to replace the value of the ``MODEL_NAME`` variable in the code shown below;\n",
        "5. Copy the ``YYYYYYYY`` part of the link and use it to replace the value of the ``MODEL_DATE`` variable in the code shown below.\n",
        "\n",
        "For example, the download link for the model used below is: ``download.tensorflow.org/models/object_detection/tf2/20200711/centernet_hg104_1024x1024_coco17_tpu-32.tar.gz``\n",
        "\n"
      ],
      "metadata": {}
    },
    {
      "cell_type": "code",
      "execution_count": 4,
      "source": [
        "\r\n",
        "PATH_TO_MODEL_DIR = \"C:/Users/Admin/.keras/datasets/centernet_hg104_1024x1024_coco17_tpu-32\""
      ],
      "outputs": [],
      "metadata": {
        "collapsed": false
      }
    },
    {
      "cell_type": "markdown",
      "source": [
        "## Download the labels\n",
        "The coode snippet shown below is used to download the labels file (.pbtxt) which contains a list\n",
        "of strings used to add the correct label to each detection (e.g. person). Since the pre-trained\n",
        "model we will use has been trained on the COCO dataset, we will need to download the labels file\n",
        "corresponding to this dataset, named ``mscoco_label_map.pbtxt``. A full list of the labels files\n",
        "included in the TensorFlow Models Garden can be found `here <https://github.com/tensorflow/models/tree/master/research/object_detection/data>`__.\n",
        "\n"
      ],
      "metadata": {}
    },
    {
      "cell_type": "code",
      "execution_count": 5,
      "source": [
        "# Download labels file\r\n",
        "PATH_TO_LABELS = \"C:/Users/Admin/.keras/datasets/label_map.pbtxt\""
      ],
      "outputs": [],
      "metadata": {
        "collapsed": false
      }
    },
    {
      "cell_type": "markdown",
      "source": [
        "## Load the model\n",
        "Next we load the downloaded model\n",
        "\n"
      ],
      "metadata": {}
    },
    {
      "cell_type": "code",
      "execution_count": 6,
      "source": [
        "import time\r\n",
        "from object_detection.utils import label_map_util\r\n",
        "from object_detection.utils import config_util\r\n",
        "from object_detection.utils import visualization_utils as viz_utils\r\n",
        "from object_detection.builders import model_builder\r\n",
        "\r\n",
        "PATH_TO_CFG = PATH_TO_MODEL_DIR + \"/pipeline.config\"\r\n",
        "PATH_TO_CKPT = PATH_TO_MODEL_DIR + \"/checkpoint\"\r\n",
        "\r\n",
        "print('Loading model... ', end='')\r\n",
        "start_time = time.time()\r\n",
        "\r\n",
        "# Load pipeline config and build a detection model\r\n",
        "configs = config_util.get_configs_from_pipeline_file(PATH_TO_CFG)\r\n",
        "model_config = configs['model']\r\n",
        "detection_model = model_builder.build(model_config=model_config, is_training=False)\r\n",
        "\r\n",
        "# Restore checkpoint\r\n",
        "ckpt = tf.compat.v2.train.Checkpoint(model=detection_model)\r\n",
        "ckpt.restore(os.path.join(PATH_TO_CKPT, 'ckpt-0')).expect_partial()\r\n",
        "\r\n",
        "@tf.function\r\n",
        "def detect_fn(image):\r\n",
        "    \"\"\"Detect objects in image.\"\"\"\r\n",
        "\r\n",
        "    image, shapes = detection_model.preprocess(image)\r\n",
        "    prediction_dict = detection_model.predict(image, shapes)\r\n",
        "    detections = detection_model.postprocess(prediction_dict, shapes)\r\n",
        "\r\n",
        "    return detections\r\n",
        "\r\n",
        "end_time = time.time()\r\n",
        "elapsed_time = end_time - start_time\r\n",
        "print('Done! Took {} seconds'.format(elapsed_time))"
      ],
      "outputs": [
        {
          "output_type": "stream",
          "name": "stdout",
          "text": [
            "Loading model... Done! Took 0.06077003479003906 seconds\n"
          ]
        }
      ],
      "metadata": {
        "collapsed": false
      }
    },
    {
      "cell_type": "markdown",
      "source": [
        "## Load label map data (for plotting)\n",
        "Label maps correspond index numbers to category names, so that when our convolution network\n",
        "predicts `5`, we know that this corresponds to `airplane`.  Here we use internal utility\n",
        "functions, but anything that returns a dictionary mapping integers to appropriate string labels\n",
        "would be fine.\n",
        "\n"
      ],
      "metadata": {}
    },
    {
      "cell_type": "code",
      "execution_count": 7,
      "source": [
        "category_index = label_map_util.create_category_index_from_labelmap(PATH_TO_LABELS,\r\n",
        "                                                                    use_display_name=True)"
      ],
      "outputs": [],
      "metadata": {
        "collapsed": false
      }
    },
    {
      "cell_type": "markdown",
      "source": [
        "## Putting everything together\n",
        "The code shown below loads an image, runs it through the detection model and visualizes the\n",
        "detection results, including the keypoints.\n",
        "\n",
        "Note that this will take a long time (several minutes) the first time you run this code due to\n",
        "tf.function's trace-compilation --- on subsequent runs (e.g. on new images), things will be\n",
        "faster.\n",
        "\n",
        "Here are some simple things to try out if you are curious:\n",
        "\n",
        "* Modify some of the input images and see if detection still works. Some simple things to try out here (just uncomment the relevant portions of code) include flipping the image horizontally, or converting to grayscale (note that we still expect the input image to have 3 channels).\n",
        "* Print out `detections['detection_boxes']` and try to match the box locations to the boxes in the image.  Notice that coordinates are given in normalized form (i.e., in the interval [0, 1]).\n",
        "* Set ``min_score_thresh`` to other values (between 0 and 1) to allow more detections in or to filter out more detections.\n",
        "\n"
      ],
      "metadata": {}
    },
    {
      "cell_type": "code",
      "execution_count": 8,
      "source": [
        "import numpy as np\r\n",
        "from PIL import Image\r\n",
        "import matplotlib.pyplot as plt\r\n",
        "import warnings\r\n",
        "warnings.filterwarnings('ignore')   # Suppress Matplotlib warnings\r\n",
        "\r\n",
        "def load_image_into_numpy_array(path):\r\n",
        "    \"\"\"Load an image from file into a numpy array.\r\n",
        "\r\n",
        "    Puts image into numpy array to feed into tensorflow graph.\r\n",
        "    Note that by convention we put it into a numpy array with shape\r\n",
        "    (height, width, channels), where channels=3 for RGB.\r\n",
        "\r\n",
        "    Args:\r\n",
        "      path: the file path to the image\r\n",
        "\r\n",
        "    Returns:\r\n",
        "      uint8 numpy array with shape (img_height, img_width, 3)\r\n",
        "    \"\"\"\r\n",
        "    return np.array(Image.open(path))\r\n",
        "\r\n",
        "\r\n",
        "for image_path in IMAGE_PATHS:\r\n",
        "\r\n",
        "    print('Running inference for {}... '.format(image_path), end='')\r\n",
        "\r\n",
        "    image_np = load_image_into_numpy_array(image_path)\r\n",
        "\r\n",
        "    # Things to try:\r\n",
        "    # Flip horizontally\r\n",
        "    # image_np = np.fliplr(image_np).copy()\r\n",
        "\r\n",
        "    # Convert image to grayscale\r\n",
        "    # image_np = np.tile(\r\n",
        "    #     np.mean(image_np, 2, keepdims=True), (1, 1, 3)).astype(np.uint8)\r\n",
        "\r\n",
        "    input_tensor = tf.convert_to_tensor(np.expand_dims(image_np, 0), dtype=tf.float32)\r\n",
        "\r\n",
        "    detections = detect_fn(input_tensor)\r\n",
        "\r\n",
        "    # All outputs are batches tensors.\r\n",
        "    # Convert to numpy arrays, and take index [0] to remove the batch dimension.\r\n",
        "    # We're only interested in the first num_detections.\r\n",
        "    num_detections = int(detections.pop('num_detections'))\r\n",
        "    detections = {key: value[0, :num_detections].numpy()\r\n",
        "                  for key, value in detections.items()}\r\n",
        "    detections['num_detections'] = num_detections\r\n",
        "\r\n",
        "    # detection_classes should be ints.\r\n",
        "    detections['detection_classes'] = detections['detection_classes'].astype(np.int64)\r\n",
        "\r\n",
        "    label_id_offset = 1\r\n",
        "    image_np_with_detections = image_np.copy()\r\n",
        "\r\n",
        "    viz_utils.visualize_boxes_and_labels_on_image_array(\r\n",
        "            image_np_with_detections,\r\n",
        "            detections['detection_boxes'],\r\n",
        "            detections['detection_classes']+label_id_offset,\r\n",
        "            detections['detection_scores'],\r\n",
        "            category_index,\r\n",
        "            use_normalized_coordinates=True,\r\n",
        "            max_boxes_to_draw=200,\r\n",
        "            min_score_thresh=.30,\r\n",
        "            agnostic_mode=False)\r\n",
        "\r\n",
        "    plt.figure()\r\n",
        "    plt.imshow(image_np_with_detections)\r\n",
        "    print('Done')\r\n",
        "plt.show()\r\n",
        "print(\"bruh\")\r\n",
        "\r\n",
        "# sphinx_gallery_thumbnail_number = 2"
      ],
      "outputs": [
        {
          "output_type": "stream",
          "name": "stdout",
          "text": [
            "Running inference for C:/Users/Admin/.keras/datasets/ima138.png... Done\n",
            "Running inference for C:/Users/Admin/.keras/datasets/ima139.png... Done\n"
          ]
        }
      ],
      "metadata": {
        "collapsed": false
      }
    }
  ],
  "metadata": {
    "kernelspec": {
      "name": "python3",
      "display_name": "Python 3.8.10 64-bit ('tensorflow': conda)"
    },
    "language_info": {
      "codemirror_mode": {
        "name": "ipython",
        "version": 3
      },
      "file_extension": ".py",
      "mimetype": "text/x-python",
      "name": "python",
      "nbconvert_exporter": "python",
      "pygments_lexer": "ipython3",
      "version": "3.8.10"
    },
    "interpreter": {
      "hash": "906dc7c8698938832605a895015e1f07d6711e69de76d5b639295e2edb408e6c"
    }
  },
  "nbformat": 4,
  "nbformat_minor": 2
}